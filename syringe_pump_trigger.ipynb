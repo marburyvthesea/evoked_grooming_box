{
 "cells": [
  {
   "cell_type": "code",
   "execution_count": 1,
   "metadata": {},
   "outputs": [],
   "source": [
    "import cv2\n",
    "import serial\n",
    "import time"
   ]
  },
  {
   "cell_type": "code",
   "execution_count": 2,
   "metadata": {},
   "outputs": [],
   "source": [
    "##Program to trigger syringe pump/stepper motor during webcam acquisition "
   ]
  },
  {
   "cell_type": "code",
   "execution_count": 4,
   "metadata": {},
   "outputs": [
    {
     "data": {
      "text/plain": [
       "()"
      ]
     },
     "execution_count": 4,
     "metadata": {},
     "output_type": "execute_result"
    }
   ],
   "source": [
    "##function to trigger arduino script \n",
    "#open serial port\n",
    "ser = serial.Serial('/dev/cu.usbmodem1431', 9600, timeout=0)\n",
    "#wait 2 seconds\n",
    "time.sleep(2)\n",
    "#function to trigger serial port \n",
    "#this will run the current script that's been uploaded to the controller\n",
    "def set_arduino_pin(on=True):\n",
    "    # port is /dev/cu.usbmodem1421\"\n",
    "    #ser = serial.Serial('COM6', 9600, timeout=0)\n",
    "    #time.sleep(2)\n",
    "    #while 1:\n",
    "    # 0 for digitalWrite(LOW), e.g. 0V output or LED off\n",
    "    # 1 for digitalWrite(HIGH), e.g. 5V output or LED on\n",
    "    # b converts unicode string to byte\n",
    "    if on == True:\n",
    "        ser.write(b'1')\n",
    "    else: \n",
    "        ser.write(b'0')\n",
    "    return()\n",
    "\n",
    "#set voltage to low for start \n",
    "set_arduino_pin(False)\n"
   ]
  },
  {
   "cell_type": "code",
   "execution_count": 19,
   "metadata": {
    "scrolled": false
   },
   "outputs": [
    {
     "data": {
      "text/plain": [
       "()"
      ]
     },
     "execution_count": 19,
     "metadata": {},
     "output_type": "execute_result"
    }
   ],
   "source": [
    "set_arduino_pin(False)"
   ]
  },
  {
   "cell_type": "code",
   "execution_count": 8,
   "metadata": {},
   "outputs": [
    {
     "data": {
      "text/plain": [
       "()"
      ]
     },
     "execution_count": 8,
     "metadata": {},
     "output_type": "execute_result"
    }
   ],
   "source": [
    "set_arduino_pin(True)"
   ]
  },
  {
   "cell_type": "code",
   "execution_count": null,
   "metadata": {},
   "outputs": [],
   "source": []
  }
 ],
 "metadata": {
  "kernelspec": {
   "display_name": "Python 3",
   "language": "python",
   "name": "python3"
  },
  "language_info": {
   "codemirror_mode": {
    "name": "ipython",
    "version": 3
   },
   "file_extension": ".py",
   "mimetype": "text/x-python",
   "name": "python",
   "nbconvert_exporter": "python",
   "pygments_lexer": "ipython3",
   "version": "3.6.6"
  }
 },
 "nbformat": 4,
 "nbformat_minor": 2
}
